{
 "cells": [
  {
   "cell_type": "markdown",
   "id": "4b3790b3-d8e8-4d51-9640-78ef1d3d318e",
   "metadata": {},
   "source": [
    "# Veri Ön İşleme\n",
    "\n",
    "### BERT Algoritması metinsel verilerle çalıştığı için verimizi metinsel formata dönüştürüyoruz"
   ]
  },
  {
   "cell_type": "code",
   "execution_count": 2,
   "id": "03376f5c-a501-47e9-8751-0757fcc4617c",
   "metadata": {
    "tags": []
   },
   "outputs": [],
   "source": [
    "import pandas as pd\n",
    "\n",
    "# Veri setini yükleme\n",
    "file_path = 'verikümesi.csv'\n",
    "data = pd.read_csv(file_path, sep=';')\n",
    "\n",
    "# Fazladan sütunları kaldırma\n",
    "data = data.dropna(axis=1, how='all')\n",
    "\n",
    "# Sayısal verileri metin formatına dönüştürme\n",
    "data['text'] = data.drop(columns=['Class']).astype(str).agg(' '.join, axis=1)"
   ]
  },
  {
   "cell_type": "markdown",
   "id": "5830e040-0414-4d69-94d7-a13a5499dbd0",
   "metadata": {},
   "source": [
    "# BERT Algoritması"
   ]
  },
  {
   "cell_type": "code",
   "execution_count": 3,
   "id": "7efe02d6-3c88-435c-aba0-476249927c2a",
   "metadata": {
    "tags": []
   },
   "outputs": [
    {
     "name": "stderr",
     "output_type": "stream",
     "text": [
      "Some weights of DistilBertForSequenceClassification were not initialized from the model checkpoint at distilbert-base-uncased and are newly initialized: ['classifier.bias', 'classifier.weight', 'pre_classifier.bias', 'pre_classifier.weight']\n",
      "You should probably TRAIN this model on a down-stream task to be able to use it for predictions and inference.\n",
      "/Users/muhammeteminaydinalp/anaconda3/lib/python3.11/site-packages/transformers/training_args.py:1474: FutureWarning: `evaluation_strategy` is deprecated and will be removed in version 4.46 of 🤗 Transformers. Use `eval_strategy` instead\n",
      "  warnings.warn(\n"
     ]
    },
    {
     "data": {
      "text/html": [
       "\n",
       "    <div>\n",
       "      \n",
       "      <progress value='105' max='105' style='width:300px; height:20px; vertical-align: middle;'></progress>\n",
       "      [105/105 01:06, Epoch 1/1]\n",
       "    </div>\n",
       "    <table border=\"1\" class=\"dataframe\">\n",
       "  <thead>\n",
       " <tr style=\"text-align: left;\">\n",
       "      <th>Epoch</th>\n",
       "      <th>Training Loss</th>\n",
       "      <th>Validation Loss</th>\n",
       "    </tr>\n",
       "  </thead>\n",
       "  <tbody>\n",
       "    <tr>\n",
       "      <td>1</td>\n",
       "      <td>0.154500</td>\n",
       "      <td>0.118858</td>\n",
       "    </tr>\n",
       "  </tbody>\n",
       "</table><p>"
      ],
      "text/plain": [
       "<IPython.core.display.HTML object>"
      ]
     },
     "metadata": {},
     "output_type": "display_data"
    },
    {
     "data": {
      "text/html": [],
      "text/plain": [
       "<IPython.core.display.HTML object>"
      ]
     },
     "metadata": {},
     "output_type": "display_data"
    },
    {
     "name": "stderr",
     "output_type": "stream",
     "text": [
      "/Users/muhammeteminaydinalp/anaconda3/lib/python3.11/site-packages/transformers/training_args.py:1474: FutureWarning: `evaluation_strategy` is deprecated and will be removed in version 4.46 of 🤗 Transformers. Use `eval_strategy` instead\n",
      "  warnings.warn(\n"
     ]
    },
    {
     "data": {
      "text/html": [
       "\n",
       "    <div>\n",
       "      \n",
       "      <progress value='210' max='210' style='width:300px; height:20px; vertical-align: middle;'></progress>\n",
       "      [210/210 01:36, Epoch 1/1]\n",
       "    </div>\n",
       "    <table border=\"1\" class=\"dataframe\">\n",
       "  <thead>\n",
       " <tr style=\"text-align: left;\">\n",
       "      <th>Epoch</th>\n",
       "      <th>Training Loss</th>\n",
       "      <th>Validation Loss</th>\n",
       "    </tr>\n",
       "  </thead>\n",
       "  <tbody>\n",
       "    <tr>\n",
       "      <td>1</td>\n",
       "      <td>0.124300</td>\n",
       "      <td>0.118804</td>\n",
       "    </tr>\n",
       "  </tbody>\n",
       "</table><p>"
      ],
      "text/plain": [
       "<IPython.core.display.HTML object>"
      ]
     },
     "metadata": {},
     "output_type": "display_data"
    },
    {
     "data": {
      "text/html": [],
      "text/plain": [
       "<IPython.core.display.HTML object>"
      ]
     },
     "metadata": {},
     "output_type": "display_data"
    },
    {
     "name": "stderr",
     "output_type": "stream",
     "text": [
      "/Users/muhammeteminaydinalp/anaconda3/lib/python3.11/site-packages/transformers/training_args.py:1474: FutureWarning: `evaluation_strategy` is deprecated and will be removed in version 4.46 of 🤗 Transformers. Use `eval_strategy` instead\n",
      "  warnings.warn(\n"
     ]
    },
    {
     "data": {
      "text/html": [
       "\n",
       "    <div>\n",
       "      \n",
       "      <progress value='280' max='280' style='width:300px; height:20px; vertical-align: middle;'></progress>\n",
       "      [280/280 01:56, Epoch 1/1]\n",
       "    </div>\n",
       "    <table border=\"1\" class=\"dataframe\">\n",
       "  <thead>\n",
       " <tr style=\"text-align: left;\">\n",
       "      <th>Epoch</th>\n",
       "      <th>Training Loss</th>\n",
       "      <th>Validation Loss</th>\n",
       "    </tr>\n",
       "  </thead>\n",
       "  <tbody>\n",
       "    <tr>\n",
       "      <td>1</td>\n",
       "      <td>0.101900</td>\n",
       "      <td>0.106934</td>\n",
       "    </tr>\n",
       "  </tbody>\n",
       "</table><p>"
      ],
      "text/plain": [
       "<IPython.core.display.HTML object>"
      ]
     },
     "metadata": {},
     "output_type": "display_data"
    },
    {
     "data": {
      "text/html": [],
      "text/plain": [
       "<IPython.core.display.HTML object>"
      ]
     },
     "metadata": {},
     "output_type": "display_data"
    },
    {
     "data": {
      "text/plain": [
       "{0.3: (0.9719387755102041,\n",
       "  0.970363279299617,\n",
       "  0.9719387755102041,\n",
       "  0.9711316935725585),\n",
       " 0.6: (0.971875, 0.9709154136058897, 0.971875, 0.9708374676118096),\n",
       " 0.8: (0.9741071428571428,\n",
       "  0.9723482730358822,\n",
       "  0.9741071428571428,\n",
       "  0.9740621781473404)}"
      ]
     },
     "execution_count": 3,
     "metadata": {},
     "output_type": "execute_result"
    }
   ],
   "source": [
    "from sklearn.model_selection import train_test_split\n",
    "from transformers import DistilBertTokenizer, DistilBertForSequenceClassification, Trainer, TrainingArguments\n",
    "from transformers import DataCollatorWithPadding\n",
    "import torch\n",
    "import numpy as np\n",
    "from sklearn.metrics import accuracy_score, f1_score, recall_score, precision_score\n",
    "\n",
    "# Özellikleri ve hedef değişkeni ayırma\n",
    "X = data['text']\n",
    "y = data['Class']\n",
    "\n",
    "# Veriyi eğitim ve test setlerine ayırma\n",
    "X_train, X_test, y_train, y_test = train_test_split(X, y, test_size=0.2, random_state=42, stratify=y)\n",
    "\n",
    "# DistilBERT Tokenizer ve Modeli yükleme\n",
    "tokenizer = DistilBertTokenizer.from_pretrained('distilbert-base-uncased')\n",
    "model = DistilBertForSequenceClassification.from_pretrained('distilbert-base-uncased', num_labels=2)\n",
    "\n",
    "# Eğitim ve değerlendirme fonksiyonu\n",
    "def train_and_evaluate(X_train, X_test, y_train, y_test):\n",
    "    # Veriyi token haline getirme\n",
    "    train_encodings = tokenizer(X_train.tolist(), truncation=True, padding=True, max_length=128)\n",
    "    test_encodings = tokenizer(X_test.tolist(), truncation=True, padding=True, max_length=128)\n",
    "\n",
    "    # Torch Dataset oluşturma\n",
    "    class Dataset(torch.utils.data.Dataset):\n",
    "        def __init__(self, encodings, labels):\n",
    "            self.encodings = encodings\n",
    "            self.labels = labels\n",
    "\n",
    "        def __getitem__(self, idx):\n",
    "            item = {key: torch.tensor(val[idx]) for key, val in self.encodings.items()}\n",
    "            item['labels'] = torch.tensor(self.labels[idx])\n",
    "            return item\n",
    "\n",
    "        def __len__(self):\n",
    "            return len(self.labels)\n",
    "\n",
    "    train_dataset = Dataset(train_encodings, y_train.tolist())\n",
    "    test_dataset = Dataset(test_encodings, y_test.tolist())\n",
    "\n",
    "    # Trainer ayarları\n",
    "    training_args = TrainingArguments(\n",
    "        output_dir='./results',\n",
    "        num_train_epochs=1,  # Eğitimi hızlandırmak için epoch sayısını 1'e düşürdük\n",
    "        per_device_train_batch_size=16,\n",
    "        per_device_eval_batch_size=16,\n",
    "        logging_dir='./logs',\n",
    "        logging_steps=10,\n",
    "        evaluation_strategy=\"epoch\"\n",
    "    )\n",
    "\n",
    "    trainer = Trainer(\n",
    "        model=model,\n",
    "        args=training_args,\n",
    "        train_dataset=train_dataset,\n",
    "        eval_dataset=test_dataset,\n",
    "        data_collator=DataCollatorWithPadding(tokenizer)\n",
    "    )\n",
    "\n",
    "    # Modeli eğitme\n",
    "    trainer.train()\n",
    "\n",
    "    # Test seti üzerinde tahmin yapma\n",
    "    predictions, labels, _ = trainer.predict(test_dataset)\n",
    "    preds = np.argmax(predictions, axis=1)\n",
    "\n",
    "    # Performans metriklerini hesaplama\n",
    "    accuracy = accuracy_score(y_test, preds)\n",
    "    f1 = f1_score(y_test, preds, average='weighted')\n",
    "    recall = recall_score(y_test, preds, average='weighted')\n",
    "    precision = precision_score(y_test, preds, average='weighted')\n",
    "\n",
    "    return accuracy, f1, recall, precision\n",
    "\n",
    "# Eğitim ve test oranları\n",
    "ratios = [0.3, 0.6, 0.8]\n",
    "results = {}\n",
    "\n",
    "# Her oran için model eğitimi ve değerlendirmesi\n",
    "for ratio in ratios:\n",
    "    X_train, X_test, y_train, y_test = train_test_split(X, y, test_size=1-ratio, random_state=42, stratify=y)\n",
    "    results[ratio] = train_and_evaluate(X_train, X_test, y_train, y_test)\n",
    "\n",
    "results"
   ]
  },
  {
   "cell_type": "markdown",
   "id": "a7fad306-6b13-4888-8a51-975137ae939b",
   "metadata": {},
   "source": [
    "# Farklı Eğitim-Test Oranlarında BERT Performansı"
   ]
  },
  {
   "cell_type": "code",
   "execution_count": 4,
   "id": "ed0c8e73-42c8-482c-9bd3-c10ed03d78f1",
   "metadata": {
    "tags": []
   },
   "outputs": [
    {
     "data": {
      "image/png": "[encoded data removed]",
      "text/plain": [
       "<Figure size 1000x600 with 1 Axes>"
      ]
     },
     "metadata": {},
     "output_type": "display_data"
    }
   ],
   "source": [
    "import matplotlib.pyplot as plt\n",
    "\n",
    "# Verilen sonuçlar\n",
    "results = {\n",
    "    0.3: (0.9676020408163265, 0.9670850764567568, 0.9676020408163265, 0.9667586287560164),\n",
    "    0.6: (0.9683035714285714, 0.9680394614158225, 0.9683035714285714, 0.9678281764151437),\n",
    "    0.8: (0.9741071428571428, 0.972970384658871, 0.9741071428571428, 0.9733044299450548)\n",
    "}\n",
    "\n",
    "# Eğitim oranlarını ve metrikleri ayırma\n",
    "ratios = list(results.keys())\n",
    "accuracy = [results[ratio][0] for ratio in ratios]\n",
    "f1_score = [results[ratio][1] for ratio in ratios]\n",
    "recall = [results[ratio][2] for ratio in ratios]\n",
    "precision = [results[ratio][3] for ratio in ratios]\n",
    "\n",
    "# Grafik oluşturma\n",
    "plt.figure(figsize=(10, 6))\n",
    "plt.plot(ratios, accuracy, label='Accuracy', marker='o')\n",
    "plt.plot(ratios, f1_score, label='F1 Score', marker='o')\n",
    "plt.plot(ratios, recall, label='Recall', marker='o')\n",
    "plt.plot(ratios, precision, label='Precision', marker='o')\n",
    "\n",
    "plt.xlabel('Eğitim Oranı')\n",
    "plt.ylabel('Değer')\n",
    "plt.title('Model Performans Metrikleri')\n",
    "plt.legend()\n",
    "plt.grid(True)\n",
    "#plt.savefig('bert.jpeg', format='jpeg')\n",
    "\n",
    "plt.show()"
   ]
  },
  {
   "cell_type": "code",
   "execution_count": null,
   "id": "4bd38024-3575-49af-a800-b3caf8f5444d",
   "metadata": {},
   "outputs": [],
   "source": []
  }
 ],
 "metadata": {
  "kernelspec": {
   "display_name": "Python 3 (ipykernel)",
   "language": "python",
   "name": "python3"
  },
  "language_info": {
   "codemirror_mode": {
    "name": "ipython",
    "version": 3
   },
   "file_extension": ".py",
   "mimetype": "text/x-python",
   "name": "python",
   "nbconvert_exporter": "python",
   "pygments_lexer": "ipython3",
   "version": "3.11.5"
  }
 },
 "nbformat": 4,
 "nbformat_minor": 5
}
