{
 "cells": [
  {
   "cell_type": "markdown",
   "id": "3605874a-4a49-404c-902e-24ed6f6e51be",
   "metadata": {},
   "source": [
    "# Veri Ön İşleme"
   ]
  },
  {
   "cell_type": "code",
   "execution_count": 3,
   "id": "3a16b77d-d2a2-4725-88e5-d40cbc553e89",
   "metadata": {
    "tags": []
   },
   "outputs": [],
   "source": [
    "import pandas as pd\n",
    "import numpy as np\n",
    "import matplotlib.pyplot as plt\n",
    "from sklearn.model_selection import train_test_split\n",
    "from sklearn.preprocessing import StandardScaler\n",
    "\n",
    "dataset = pd.read_csv(\"verikümesi.csv\", sep = ';')\n",
    "\n",
    "# V1 sütunu object tipinde olduğu için sayısal bir formata dönüştürüyoruz.\n",
    "cleaned_dataset = dataset.copy()\n",
    "cleaned_dataset['V1'] = pd.to_numeric(cleaned_dataset['V1'], errors='coerce')\n",
    "\n",
    "mean_value = cleaned_dataset['V1'].mean()\n",
    "\n",
    "# Sayısal olmayan değerleri ortalamayla değiştiriyoruz.\n",
    "cleaned_dataset.loc[~cleaned_dataset['V1'].notnull(), 'V1'] = mean_value\n",
    "\n",
    "\n",
    "y = cleaned_dataset['Class']\n",
    "X = cleaned_dataset.drop(['Class', 'Unnamed: 31', 'Unnamed: 32'], axis = 1)\n",
    "\n",
    "# Veriyi normalize et\n",
    "scaler = StandardScaler()\n",
    "X_scaled = scaler.fit_transform(X)\n",
    "\n",
    "# Veriyi farklı oranlarda böl\n",
    "splits = {\n",
    "    '30_train_70_test': train_test_split(X_scaled, y, test_size=0.70, random_state=42),\n",
    "    '40_train_60_test': train_test_split(X_scaled, y, test_size=0.60, random_state=42),\n",
    "    '80_train_20_test': train_test_split(X_scaled, y, test_size=0.20, random_state=42)\n",
    "}"
   ]
  },
  {
   "cell_type": "markdown",
   "id": "a219ed18-e3be-4ec2-bb5e-0b42c6ce5af1",
   "metadata": {},
   "source": [
    "# RNN Algoritması"
   ]
  },
  {
   "cell_type": "code",
   "execution_count": 4,
   "id": "7116e630-a1cf-4cde-a9f9-8658c9d7e5ce",
   "metadata": {
    "tags": []
   },
   "outputs": [
    {
     "name": "stdout",
     "output_type": "stream",
     "text": [
      "Training with split: 30_train_70_test\n",
      "Epoch 1/10\n"
     ]
    },
    {
     "name": "stderr",
     "output_type": "stream",
     "text": [
      "/Users/muhammeteminaydinalp/anaconda3/lib/python3.11/site-packages/keras/src/layers/rnn/rnn.py:204: UserWarning: Do not pass an `input_shape`/`input_dim` argument to a layer. When using Sequential models, prefer using an `Input(shape)` object as the first layer in the model instead.\n",
      "  super().__init__(**kwargs)\n"
     ]
    },
    {
     "name": "stdout",
     "output_type": "stream",
     "text": [
      "\u001b[1m53/53\u001b[0m \u001b[32m━━━━━━━━━━━━━━━━━━━━\u001b[0m\u001b[37m\u001b[0m \u001b[1m1s\u001b[0m 2ms/step - accuracy: 0.7543 - loss: 0.5494 - val_accuracy: 0.9589 - val_loss: 0.2645\n",
      "Epoch 2/10\n",
      "\u001b[1m53/53\u001b[0m \u001b[32m━━━━━━━━━━━━━━━━━━━━\u001b[0m\u001b[37m\u001b[0m \u001b[1m0s\u001b[0m 898us/step - accuracy: 0.9673 - loss: 0.2291 - val_accuracy: 0.9763 - val_loss: 0.1437\n",
      "Epoch 3/10\n",
      "\u001b[1m53/53\u001b[0m \u001b[32m━━━━━━━━━━━━━━━━━━━━\u001b[0m\u001b[37m\u001b[0m \u001b[1m0s\u001b[0m 885us/step - accuracy: 0.9799 - loss: 0.1293 - val_accuracy: 0.9829 - val_loss: 0.0990\n",
      "Epoch 4/10\n",
      "\u001b[1m53/53\u001b[0m \u001b[32m━━━━━━━━━━━━━━━━━━━━\u001b[0m\u001b[37m\u001b[0m \u001b[1m0s\u001b[0m 852us/step - accuracy: 0.9860 - loss: 0.0816 - val_accuracy: 0.9849 - val_loss: 0.0802\n",
      "Epoch 5/10\n",
      "\u001b[1m53/53\u001b[0m \u001b[32m━━━━━━━━━━━━━━━━━━━━\u001b[0m\u001b[37m\u001b[0m \u001b[1m0s\u001b[0m 862us/step - accuracy: 0.9775 - loss: 0.0852 - val_accuracy: 0.9857 - val_loss: 0.0723\n",
      "Epoch 6/10\n",
      "\u001b[1m53/53\u001b[0m \u001b[32m━━━━━━━━━━━━━━━━━━━━\u001b[0m\u001b[37m\u001b[0m \u001b[1m0s\u001b[0m 879us/step - accuracy: 0.9863 - loss: 0.0634 - val_accuracy: 0.9849 - val_loss: 0.0682\n",
      "Epoch 7/10\n",
      "\u001b[1m53/53\u001b[0m \u001b[32m━━━━━━━━━━━━━━━━━━━━\u001b[0m\u001b[37m\u001b[0m \u001b[1m0s\u001b[0m 873us/step - accuracy: 0.9910 - loss: 0.0494 - val_accuracy: 0.9844 - val_loss: 0.0659\n",
      "Epoch 8/10\n",
      "\u001b[1m53/53\u001b[0m \u001b[32m━━━━━━━━━━━━━━━━━━━━\u001b[0m\u001b[37m\u001b[0m \u001b[1m0s\u001b[0m 858us/step - accuracy: 0.9838 - loss: 0.0623 - val_accuracy: 0.9844 - val_loss: 0.0651\n",
      "Epoch 9/10\n",
      "\u001b[1m53/53\u001b[0m \u001b[32m━━━━━━━━━━━━━━━━━━━━\u001b[0m\u001b[37m\u001b[0m \u001b[1m0s\u001b[0m 856us/step - accuracy: 0.9841 - loss: 0.0636 - val_accuracy: 0.9842 - val_loss: 0.0642\n",
      "Epoch 10/10\n",
      "\u001b[1m53/53\u001b[0m \u001b[32m━━━━━━━━━━━━━━━━━━━━\u001b[0m\u001b[37m\u001b[0m \u001b[1m0s\u001b[0m 910us/step - accuracy: 0.9848 - loss: 0.0681 - val_accuracy: 0.9849 - val_loss: 0.0639\n",
      "\u001b[1m123/123\u001b[0m \u001b[32m━━━━━━━━━━━━━━━━━━━━\u001b[0m\u001b[37m\u001b[0m \u001b[1m0s\u001b[0m 504us/step\n",
      "Training with split: 40_train_60_test\n",
      "Epoch 1/10\n"
     ]
    },
    {
     "name": "stderr",
     "output_type": "stream",
     "text": [
      "/Users/muhammeteminaydinalp/anaconda3/lib/python3.11/site-packages/keras/src/layers/rnn/rnn.py:204: UserWarning: Do not pass an `input_shape`/`input_dim` argument to a layer. When using Sequential models, prefer using an `Input(shape)` object as the first layer in the model instead.\n",
      "  super().__init__(**kwargs)\n"
     ]
    },
    {
     "name": "stdout",
     "output_type": "stream",
     "text": [
      "\u001b[1m70/70\u001b[0m \u001b[32m━━━━━━━━━━━━━━━━━━━━\u001b[0m\u001b[37m\u001b[0m \u001b[1m0s\u001b[0m 2ms/step - accuracy: 0.7321 - loss: 0.5582 - val_accuracy: 0.9729 - val_loss: 0.2372\n",
      "Epoch 2/10\n",
      "\u001b[1m70/70\u001b[0m \u001b[32m━━━━━━━━━━━━━━━━━━━━\u001b[0m\u001b[37m\u001b[0m \u001b[1m0s\u001b[0m 626us/step - accuracy: 0.9714 - loss: 0.1990 - val_accuracy: 0.9851 - val_loss: 0.1162\n",
      "Epoch 3/10\n",
      "\u001b[1m70/70\u001b[0m \u001b[32m━━━━━━━━━━━━━━━━━━━━\u001b[0m\u001b[37m\u001b[0m \u001b[1m0s\u001b[0m 625us/step - accuracy: 0.9800 - loss: 0.1072 - val_accuracy: 0.9866 - val_loss: 0.0820\n",
      "Epoch 4/10\n",
      "\u001b[1m70/70\u001b[0m \u001b[32m━━━━━━━━━━━━━━━━━━━━\u001b[0m\u001b[37m\u001b[0m \u001b[1m0s\u001b[0m 633us/step - accuracy: 0.9841 - loss: 0.0815 - val_accuracy: 0.9848 - val_loss: 0.0719\n",
      "Epoch 5/10\n",
      "\u001b[1m70/70\u001b[0m \u001b[32m━━━━━━━━━━━━━━━━━━━━\u001b[0m\u001b[37m\u001b[0m \u001b[1m0s\u001b[0m 640us/step - accuracy: 0.9855 - loss: 0.0657 - val_accuracy: 0.9845 - val_loss: 0.0675\n",
      "Epoch 6/10\n",
      "\u001b[1m70/70\u001b[0m \u001b[32m━━━━━━━━━━━━━━━━━━━━\u001b[0m\u001b[37m\u001b[0m \u001b[1m0s\u001b[0m 644us/step - accuracy: 0.9857 - loss: 0.0600 - val_accuracy: 0.9839 - val_loss: 0.0659\n",
      "Epoch 7/10\n",
      "\u001b[1m70/70\u001b[0m \u001b[32m━━━━━━━━━━━━━━━━━━━━\u001b[0m\u001b[37m\u001b[0m \u001b[1m0s\u001b[0m 639us/step - accuracy: 0.9866 - loss: 0.0532 - val_accuracy: 0.9842 - val_loss: 0.0648\n",
      "Epoch 8/10\n",
      "\u001b[1m70/70\u001b[0m \u001b[32m━━━━━━━━━━━━━━━━━━━━\u001b[0m\u001b[37m\u001b[0m \u001b[1m0s\u001b[0m 632us/step - accuracy: 0.9835 - loss: 0.0630 - val_accuracy: 0.9839 - val_loss: 0.0640\n",
      "Epoch 9/10\n",
      "\u001b[1m70/70\u001b[0m \u001b[32m━━━━━━━━━━━━━━━━━━━━\u001b[0m\u001b[37m\u001b[0m \u001b[1m0s\u001b[0m 626us/step - accuracy: 0.9886 - loss: 0.0453 - val_accuracy: 0.9839 - val_loss: 0.0641\n",
      "Epoch 10/10\n",
      "\u001b[1m70/70\u001b[0m \u001b[32m━━━━━━━━━━━━━━━━━━━━\u001b[0m\u001b[37m\u001b[0m \u001b[1m0s\u001b[0m 634us/step - accuracy: 0.9874 - loss: 0.0493 - val_accuracy: 0.9842 - val_loss: 0.0635\n",
      "\u001b[1m105/105\u001b[0m \u001b[32m━━━━━━━━━━━━━━━━━━━━\u001b[0m\u001b[37m\u001b[0m \u001b[1m0s\u001b[0m 221us/step\n",
      "Training with split: 80_train_20_test\n",
      "Epoch 1/10\n"
     ]
    },
    {
     "name": "stderr",
     "output_type": "stream",
     "text": [
      "/Users/muhammeteminaydinalp/anaconda3/lib/python3.11/site-packages/keras/src/layers/rnn/rnn.py:204: UserWarning: Do not pass an `input_shape`/`input_dim` argument to a layer. When using Sequential models, prefer using an `Input(shape)` object as the first layer in the model instead.\n",
      "  super().__init__(**kwargs)\n"
     ]
    },
    {
     "name": "stdout",
     "output_type": "stream",
     "text": [
      "\u001b[1m140/140\u001b[0m \u001b[32m━━━━━━━━━━━━━━━━━━━━\u001b[0m\u001b[37m\u001b[0m \u001b[1m0s\u001b[0m 826us/step - accuracy: 0.7948 - loss: 0.4644 - val_accuracy: 0.9893 - val_loss: 0.1031\n",
      "Epoch 2/10\n",
      "\u001b[1m140/140\u001b[0m \u001b[32m━━━━━━━━━━━━━━━━━━━━\u001b[0m\u001b[37m\u001b[0m \u001b[1m0s\u001b[0m 370us/step - accuracy: 0.9835 - loss: 0.1053 - val_accuracy: 0.9902 - val_loss: 0.0619\n",
      "Epoch 3/10\n",
      "\u001b[1m140/140\u001b[0m \u001b[32m━━━━━━━━━━━━━━━━━━━━\u001b[0m\u001b[37m\u001b[0m \u001b[1m0s\u001b[0m 367us/step - accuracy: 0.9864 - loss: 0.0707 - val_accuracy: 0.9902 - val_loss: 0.0548\n",
      "Epoch 4/10\n",
      "\u001b[1m140/140\u001b[0m \u001b[32m━━━━━━━━━━━━━━━━━━━━\u001b[0m\u001b[37m\u001b[0m \u001b[1m0s\u001b[0m 357us/step - accuracy: 0.9877 - loss: 0.0555 - val_accuracy: 0.9902 - val_loss: 0.0522\n",
      "Epoch 5/10\n",
      "\u001b[1m140/140\u001b[0m \u001b[32m━━━━━━━━━━━━━━━━━━━━\u001b[0m\u001b[37m\u001b[0m \u001b[1m0s\u001b[0m 357us/step - accuracy: 0.9869 - loss: 0.0613 - val_accuracy: 0.9893 - val_loss: 0.0514\n",
      "Epoch 6/10\n",
      "\u001b[1m140/140\u001b[0m \u001b[32m━━━━━━━━━━━━━━━━━━━━\u001b[0m\u001b[37m\u001b[0m \u001b[1m0s\u001b[0m 359us/step - accuracy: 0.9837 - loss: 0.0666 - val_accuracy: 0.9902 - val_loss: 0.0504\n",
      "Epoch 7/10\n",
      "\u001b[1m140/140\u001b[0m \u001b[32m━━━━━━━━━━━━━━━━━━━━\u001b[0m\u001b[37m\u001b[0m \u001b[1m0s\u001b[0m 359us/step - accuracy: 0.9850 - loss: 0.0660 - val_accuracy: 0.9902 - val_loss: 0.0495\n",
      "Epoch 8/10\n",
      "\u001b[1m140/140\u001b[0m \u001b[32m━━━━━━━━━━━━━━━━━━━━\u001b[0m\u001b[37m\u001b[0m \u001b[1m0s\u001b[0m 360us/step - accuracy: 0.9859 - loss: 0.0590 - val_accuracy: 0.9902 - val_loss: 0.0486\n",
      "Epoch 9/10\n",
      "\u001b[1m140/140\u001b[0m \u001b[32m━━━━━━━━━━━━━━━━━━━━\u001b[0m\u001b[37m\u001b[0m \u001b[1m0s\u001b[0m 356us/step - accuracy: 0.9866 - loss: 0.0620 - val_accuracy: 0.9902 - val_loss: 0.0488\n",
      "Epoch 10/10\n",
      "\u001b[1m140/140\u001b[0m \u001b[32m━━━━━━━━━━━━━━━━━━━━\u001b[0m\u001b[37m\u001b[0m \u001b[1m0s\u001b[0m 358us/step - accuracy: 0.9899 - loss: 0.0456 - val_accuracy: 0.9902 - val_loss: 0.0485\n",
      "\u001b[1m35/35\u001b[0m \u001b[32m━━━━━━━━━━━━━━━━━━━━\u001b[0m\u001b[37m\u001b[0m \u001b[1m0s\u001b[0m 243us/step\n",
      "{'30_train_70_test': {'accuracy': 0.9849489795918367, 'f1_score': 0.9046849757673667, 'recall': 0.8641975308641975, 'precision': 0.9491525423728814}, '40_train_60_test': {'accuracy': 0.9842261904761904, 'f1_score': 0.9027522935779817, 'recall': 0.8661971830985915, 'precision': 0.9425287356321839}, '80_train_20_test': {'accuracy': 0.9901785714285715, 'f1_score': 0.9398907103825137, 'recall': 0.8958333333333334, 'precision': 0.9885057471264368}}\n"
     ]
    }
   ],
   "source": [
    "import pandas as pd\n",
    "from sklearn.model_selection import train_test_split\n",
    "from sklearn.preprocessing import StandardScaler\n",
    "import numpy as np\n",
    "import tensorflow as tf\n",
    "from tensorflow.keras.models import Sequential\n",
    "from tensorflow.keras.layers import Dense, SimpleRNN\n",
    "from sklearn.metrics import accuracy_score, f1_score, recall_score, precision_score\n",
    "# RNN Modelini tanımla\n",
    "\n",
    "def create_rnn_model(input_shape):\n",
    "    model = Sequential()\n",
    "    model.add(SimpleRNN(50, input_shape=input_shape, return_sequences=False))\n",
    "    model.add(Dense(1, activation='sigmoid'))\n",
    "    model.compile(optimizer='adam', loss='binary_crossentropy', metrics=['accuracy'])\n",
    "    return model\n",
    "\n",
    "# Modeli eğit ve değerlendir\n",
    "results = {}\n",
    "for split_name, (X_train, X_test, y_train, y_test) in splits.items():\n",
    "    print(f'Training with split: {split_name}')\n",
    "    \n",
    "    # Veriyi RNN için 3D formata dönüştür\n",
    "    X_train_rnn = np.expand_dims(X_train, axis=1)\n",
    "    X_test_rnn = np.expand_dims(X_test, axis=1)\n",
    "    \n",
    "    # Modeli oluştur\n",
    "    model = create_rnn_model((X_train_rnn.shape[1], X_train_rnn.shape[2]))\n",
    "    \n",
    "    # Modeli eğit\n",
    "    model.fit(X_train_rnn, y_train, epochs=10, batch_size=32, validation_data=(X_test_rnn, y_test), verbose=1)\n",
    "    \n",
    "    # Tahmin yap\n",
    "    y_pred_prob = model.predict(X_test_rnn)\n",
    "    y_pred = (y_pred_prob > 0.5).astype(int)\n",
    "    \n",
    "    # Performans metriklerini hesapla\n",
    "    accuracy = accuracy_score(y_test, y_pred)\n",
    "    f1 = f1_score(y_test, y_pred)\n",
    "    recall = recall_score(y_test, y_pred)\n",
    "    precision = precision_score(y_test, y_pred)\n",
    "    \n",
    "    results[split_name] = {\n",
    "        'accuracy': accuracy,\n",
    "        'f1_score': f1,\n",
    "        'recall': recall,\n",
    "        'precision': precision\n",
    "    }\n",
    "\n",
    "# Sonuçları yazdır\n",
    "print(results)"
   ]
  },
  {
   "cell_type": "markdown",
   "id": "0df95d42-5853-41ab-8bdc-3c0ca539803d",
   "metadata": {},
   "source": [
    "# Farklı Eğitim-Test Oranlarında RNN Performansı"
   ]
  },
  {
   "cell_type": "code",
   "execution_count": 5,
   "id": "47d2b77b-5fd7-46e6-94cc-284600237446",
   "metadata": {
    "tags": []
   },
   "outputs": [
    {
     "data": {
      "image/png": "[encoded data removed]",
      "text/plain": [
       "<Figure size 1000x600 with 1 Axes>"
      ]
     },
     "metadata": {},
     "output_type": "display_data"
    }
   ],
   "source": [
    "# Sonuçlar\n",
    "results = {\n",
    "    '30_train_70_test': {'accuracy': 0.9836734693877551, 'f1_score': 0.8974358974358975, 'recall': 0.8641975308641975, 'precision': 0.9333333333333333},\n",
    "    '40_train_60_test': {'accuracy': 0.9833333333333333, 'f1_score': 0.8978102189781022, 'recall': 0.8661971830985915, 'precision': 0.9318181818181818},\n",
    "    '80_train_20_test': {'accuracy': 0.9910714285714286, 'f1_score': 0.9456521739130435, 'recall': 0.90625, 'precision': 0.9886363636363636}\n",
    "}\n",
    "\n",
    "# Oranlar\n",
    "splits = list(results.keys())\n",
    "metrics = ['accuracy', 'f1_score', 'recall', 'precision']\n",
    "\n",
    "# Her bir metrik için değerleri ayır\n",
    "accuracy_values = [results[split]['accuracy'] for split in splits]\n",
    "f1_values = [results[split]['f1_score'] for split in splits]\n",
    "recall_values = [results[split]['recall'] for split in splits]\n",
    "precision_values = [results[split]['precision'] for split in splits]\n",
    "\n",
    "# Bar genişliği\n",
    "bar_width = 0.2\n",
    "\n",
    "# X pozisyonları\n",
    "r1 = np.arange(len(splits))\n",
    "r2 = [x + bar_width for x in r1]\n",
    "r3 = [x + bar_width for x in r2]\n",
    "r4 = [x + bar_width for x in r3]\n",
    "\n",
    "# Grafik oluştur\n",
    "plt.figure(figsize=(10, 6))\n",
    "\n",
    "# Bar grafikleri\n",
    "plt.bar(r1, accuracy_values, color='blue', width=bar_width, edgecolor='grey', label='Accuracy')\n",
    "plt.bar(r2, f1_values, color='green', width=bar_width, edgecolor='grey', label='F1 Score')\n",
    "plt.bar(r3, recall_values, color='red', width=bar_width, edgecolor='grey', label='Recall')\n",
    "plt.bar(r4, precision_values, color='orange', width=bar_width, edgecolor='grey', label='Precision')\n",
    "\n",
    "# X ekseni etiketleri\n",
    "plt.xlabel('Train-Test Split', fontweight='bold')\n",
    "plt.xticks([r + bar_width for r in range(len(splits))], splits)\n",
    "\n",
    "# Y ekseni etiketi\n",
    "plt.ylabel('Score', fontweight='bold')\n",
    "\n",
    "# Başlık\n",
    "plt.title('Model Performance Metrics for Different Train-Test Splits')\n",
    "\n",
    "# Legend\n",
    "plt.legend()\n",
    "\n",
    "# Grafiği göster\n",
    "#plt.savefig('rnn.jpeg', format='jpeg')\n",
    "\n",
    "plt.show()"
   ]
  },
  {
   "cell_type": "code",
   "execution_count": null,
   "id": "d2c9a96a-1c92-46ec-8d25-b22136f4c24c",
   "metadata": {},
   "outputs": [],
   "source": []
  }
 ],
 "metadata": {
  "kernelspec": {
   "display_name": "Python 3 (ipykernel)",
   "language": "python",
   "name": "python3"
  },
  "language_info": {
   "codemirror_mode": {
    "name": "ipython",
    "version": 3
   },
   "file_extension": ".py",
   "mimetype": "text/x-python",
   "name": "python",
   "nbconvert_exporter": "python",
   "pygments_lexer": "ipython3",
   "version": "3.11.5"
  }
 },
 "nbformat": 4,
 "nbformat_minor": 5
}
